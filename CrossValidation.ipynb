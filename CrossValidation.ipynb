{
 "cells": [
  {
   "cell_type": "code",
   "execution_count": null,
   "id": "fc3834c2",
   "metadata": {},
   "outputs": [],
   "source": [
    "import pandas as pd\n",
    "import numpy as np"
   ]
  },
  {
   "cell_type": "code",
   "execution_count": null,
   "id": "ef85f052",
   "metadata": {},
   "outputs": [],
   "source": [
    "#load the training and testing dataset\n",
    "train = pd.read_csv('processed_train.csv')\n",
    "test = pd.read_csv('processed_test.csv')"
   ]
  },
  {
   "cell_type": "code",
   "execution_count": null,
   "id": "5643ea36",
   "metadata": {},
   "outputs": [],
   "source": [
    "#get x,y\n",
    "train_y = train.resale_price\n",
    "train_x = train.drop(\"resale_price\", axis=1)"
   ]
  },
  {
   "cell_type": "code",
   "execution_count": null,
   "id": "03998ae7",
   "metadata": {},
   "outputs": [],
   "source": [
    "#standardilize the training set and using the scaler to standardilze the testing set\n",
    "from sklearn.preprocessing import StandardScaler\n",
    "\n",
    "x_scaler = StandardScaler()\n",
    "train_x = x_scaler.fit_transform(train_x)\n",
    "test = x_scaler.transform(test)\n",
    "\n",
    "y_scaler = StandardScaler()\n",
    "train_y = y_scaler.fit_transform(np.array(train_y).reshape(-1,1))"
   ]
  },
  {
   "cell_type": "markdown",
   "id": "a2e691bf",
   "metadata": {},
   "source": [
    "unfreeze one of the model cells below "
   ]
  },
  {
   "cell_type": "code",
   "execution_count": null,
   "id": "b62ac678",
   "metadata": {},
   "outputs": [],
   "source": [
    "# import xgboost\n",
    "# model_name='xgboost'\n",
    "# model = xgboost.XGBRegressor(n_estimators=1000, max_depth=10, eta=0.1, subsample=0.7, colsample_bytree=0.8)"
   ]
  },
  {
   "cell_type": "code",
   "execution_count": null,
   "id": "47c46d82",
   "metadata": {},
   "outputs": [],
   "source": [
    "# from sklearn.ensemble import RandomForestRegressor\n",
    "# model_name='randomForest'\n",
    "# model = RandomForestRegressor(n_estimators=700, max_depth=10,min_samples_split=2)"
   ]
  },
  {
   "cell_type": "code",
   "execution_count": null,
   "id": "05dc375d",
   "metadata": {},
   "outputs": [],
   "source": [
    "# import lightgbm as lgb\n",
    "# model_name='lightgbm'\n",
    "# model = lgb.LGBMRegressor(objective='regression',learning_rate=0.1,n_estimators=1000)"
   ]
  },
  {
   "cell_type": "code",
   "execution_count": null,
   "id": "af26b447-2208-4990-a863-27c00dd66413",
   "metadata": {},
   "outputs": [],
   "source": [
    "# from sklearn.neighbors import KNeighborsRegressor\n",
    "# model_name='knn'\n",
    "# model = KNeighborsRegressor(n_neighbors = 3)"
   ]
  },
  {
   "cell_type": "code",
   "execution_count": null,
   "id": "bc023651-4eda-4aa2-aebc-441c1eb25c8d",
   "metadata": {},
   "outputs": [],
   "source": [
    "# from sklearn.ensemble import GradientBoostingRegressor\n",
    "# model_name='gradientBoosting'\n",
    "# model = GradientBoostingRegressor(n_estimators = 700, max_depth = 8)"
   ]
  },
  {
   "cell_type": "code",
   "execution_count": null,
   "id": "79e8367c",
   "metadata": {},
   "outputs": [],
   "source": [
    "from sklearn.model_selection import train_test_split\n",
    "X_train, X_val, y_train, y_val = train_test_split(train_x,train_y,test_size=0.1)"
   ]
  },
  {
   "cell_type": "code",
   "execution_count": null,
   "id": "3b34c0dc",
   "metadata": {},
   "outputs": [],
   "source": [
    "model.fit(X_train, y_train)"
   ]
  },
  {
   "cell_type": "code",
   "execution_count": null,
   "id": "0b3763c4",
   "metadata": {},
   "outputs": [],
   "source": [
    "#inverse the predicting result and compute MAE\n",
    "from sklearn.metrics import mean_absolute_error\n",
    "t_y = model.predict(X_train)\n",
    "t_y = y_scaler.inverse_transform(t_y.reshape(-1,1))\n",
    "y_train = y_scaler.inverse_transform(y_train.reshape(-1,1))\n",
    "train_error = mean_absolute_error(np.array(y_train).reshape(-1),np.array(t_y).reshape(-1))\n",
    "\n",
    "\n",
    "p_y = model.predict(X_val)\n",
    "p_y = y_scaler.inverse_transform(p_y.reshape(-1,1))\n",
    "y_val = y_scaler.inverse_transform(y_val.reshape(-1,1))\n",
    "val_error = mean_absolute_error(np.array(y_val).reshape(-1),np.array(p_y).reshape(-1))"
   ]
  },
  {
   "cell_type": "code",
   "execution_count": null,
   "id": "94eb7bc0",
   "metadata": {},
   "outputs": [],
   "source": [
    "print('train_error: ',train_error)\n",
    "print('val_error: ',val_error)"
   ]
  },
  {
   "cell_type": "code",
   "execution_count": null,
   "id": "0a91b6a6",
   "metadata": {},
   "outputs": [],
   "source": [
    "predict_y = model.predict(test)\n",
    "predict_y = y_scaler.inverse_transform(predict_y.reshape(-1,1))"
   ]
  },
  {
   "cell_type": "code",
   "execution_count": null,
   "id": "0ecc7e5d",
   "metadata": {},
   "outputs": [],
   "source": [
    "result = pd.DataFrame()\n",
    "result.insert(result.shape[0], 'Id', range(len(predict_y)))\n",
    "result.insert(1, 'Predicted', predict_y)\n",
    "result.to_csv('result_'+model_name+'.csv', index = 0)"
   ]
  }
 ],
 "metadata": {
  "kernelspec": {
   "display_name": "Python 3 (ipykernel)",
   "language": "python",
   "name": "python3"
  },
  "language_info": {
   "codemirror_mode": {
    "name": "ipython",
    "version": 3
   },
   "file_extension": ".py",
   "mimetype": "text/x-python",
   "name": "python",
   "nbconvert_exporter": "python",
   "pygments_lexer": "ipython3",
   "version": "3.10.9"
  }
 },
 "nbformat": 4,
 "nbformat_minor": 5
}
