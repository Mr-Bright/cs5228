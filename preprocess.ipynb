{
 "cells": [
  {
   "cell_type": "code",
   "execution_count": 3,
   "id": "3e5d454b",
   "metadata": {},
   "outputs": [],
   "source": [
    "import pandas as pd"
   ]
  },
  {
   "cell_type": "code",
   "execution_count": 4,
   "id": "369e3339",
   "metadata": {},
   "outputs": [],
   "source": [
    "train = pd.read_csv('processed_train')\n",
    "test = pd.read_csv('processed_test')"
   ]
  },
  {
   "cell_type": "code",
   "execution_count": 5,
   "id": "a380279d",
   "metadata": {},
   "outputs": [],
   "source": [
    "train = train.drop(columns=['elevation', 'eco_category', 'town', 'flat_type',\n",
    "                                      'region','block',\n",
    "                                    'subzone', 'street_name'])\n",
    "test = test.drop(columns=['elevation', 'eco_category', 'town', 'flat_type',\n",
    "                                      'region','block',\n",
    "                                    'subzone', 'street_name'])"
   ]
  },
  {
   "cell_type": "code",
   "execution_count": 6,
   "id": "c81cf41a",
   "metadata": {},
   "outputs": [],
   "source": [
    "train = train[['planning_area', 'flat_model', 'storey_range', 'month',\n",
    "       'floor_area_sqm', 'lease_commence_date', 'latitude', 'longitude', 'sg-primary-schools_nearestDistance/KM',\n",
    "       'sg-primary-schools_lessHalfKMNum', 'sg-primary-schools_half2OneKMNum',\n",
    "       'sg-primary-schools_one2ThreeKMNum',\n",
    "       'sg-commerical-centres_nearestDistance/KM',\n",
    "       'sg-commerical-centres_lessHalfKMNum',\n",
    "       'sg-commerical-centres_half2OneKMNum',\n",
    "       'sg-commerical-centres_one2ThreeKMNum',\n",
    "       'sg-secondary-schools_nearestDistance/KM',\n",
    "       'sg-secondary-schools_lessHalfKMNum',\n",
    "       'sg-secondary-schools_half2OneKMNum',\n",
    "       'sg-secondary-schools_one2ThreeKMNum',\n",
    "       'sg-shopping-malls_nearestDistance/KM',\n",
    "       'sg-shopping-malls_lessHalfKMNum', 'sg-shopping-malls_half2OneKMNum',\n",
    "       'sg-shopping-malls_one2ThreeKMNum',\n",
    "       'sg-train-stations_nearestDistance/KM',\n",
    "       'sg-train-stations_lessHalfKMNum', 'sg-train-stations_half2OneKMNum',\n",
    "       'sg-train-stations_one2ThreeKMNum',\n",
    "       'sg-gov-markets-hawker-centres_nearestDistance/KM',\n",
    "       'sg-gov-markets-hawker-centres_lessHalfKMNum',\n",
    "       'sg-gov-markets-hawker-centres_half2OneKMNum',\n",
    "       'sg-gov-markets-hawker-centres_one2ThreeKMNum', 'underadult', 'young',\n",
    "       'mid', 'old', '1 room', '2 room', '3 room', '4 room', '5 room',\n",
    "       'executive', 'multi generation',\n",
    "       'resale_price']]\n",
    "test = test[['planning_area', 'flat_model', 'storey_range', 'month',\n",
    "       'floor_area_sqm', 'lease_commence_date', 'latitude', 'longitude', 'sg-primary-schools_nearestDistance/KM',\n",
    "       'sg-primary-schools_lessHalfKMNum', 'sg-primary-schools_half2OneKMNum',\n",
    "       'sg-primary-schools_one2ThreeKMNum',\n",
    "       'sg-commerical-centres_nearestDistance/KM',\n",
    "       'sg-commerical-centres_lessHalfKMNum',\n",
    "       'sg-commerical-centres_half2OneKMNum',\n",
    "       'sg-commerical-centres_one2ThreeKMNum',\n",
    "       'sg-secondary-schools_nearestDistance/KM',\n",
    "       'sg-secondary-schools_lessHalfKMNum',\n",
    "       'sg-secondary-schools_half2OneKMNum',\n",
    "       'sg-secondary-schools_one2ThreeKMNum',\n",
    "       'sg-shopping-malls_nearestDistance/KM',\n",
    "       'sg-shopping-malls_lessHalfKMNum', 'sg-shopping-malls_half2OneKMNum',\n",
    "       'sg-shopping-malls_one2ThreeKMNum',\n",
    "       'sg-train-stations_nearestDistance/KM',\n",
    "       'sg-train-stations_lessHalfKMNum', 'sg-train-stations_half2OneKMNum',\n",
    "       'sg-train-stations_one2ThreeKMNum',\n",
    "       'sg-gov-markets-hawker-centres_nearestDistance/KM',\n",
    "       'sg-gov-markets-hawker-centres_lessHalfKMNum',\n",
    "       'sg-gov-markets-hawker-centres_half2OneKMNum',\n",
    "       'sg-gov-markets-hawker-centres_one2ThreeKMNum', 'underadult', 'young',\n",
    "       'mid', 'old', '1 room', '2 room', '3 room', '4 room', '5 room',\n",
    "       'executive', 'multi generation']]"
   ]
  },
  {
   "cell_type": "code",
   "execution_count": 7,
   "id": "6ffbd18b",
   "metadata": {},
   "outputs": [
    {
     "name": "stdout",
     "output_type": "stream",
     "text": [
      "<class 'pandas.core.frame.DataFrame'>\n",
      "RangeIndex: 431732 entries, 0 to 431731\n",
      "Data columns (total 44 columns):\n",
      " #   Column                                            Non-Null Count   Dtype  \n",
      "---  ------                                            --------------   -----  \n",
      " 0   planning_area                                     431732 non-null  float64\n",
      " 1   flat_model                                        431732 non-null  float64\n",
      " 2   storey_range                                      431732 non-null  float64\n",
      " 3   month                                             431732 non-null  int64  \n",
      " 4   floor_area_sqm                                    431732 non-null  float64\n",
      " 5   lease_commence_date                               431732 non-null  int64  \n",
      " 6   latitude                                          431732 non-null  float64\n",
      " 7   longitude                                         431732 non-null  float64\n",
      " 8   sg-primary-schools_nearestDistance/KM             431732 non-null  float64\n",
      " 9   sg-primary-schools_lessHalfKMNum                  431732 non-null  int64  \n",
      " 10  sg-primary-schools_half2OneKMNum                  431732 non-null  int64  \n",
      " 11  sg-primary-schools_one2ThreeKMNum                 431732 non-null  int64  \n",
      " 12  sg-commerical-centres_nearestDistance/KM          431732 non-null  float64\n",
      " 13  sg-commerical-centres_lessHalfKMNum               431732 non-null  int64  \n",
      " 14  sg-commerical-centres_half2OneKMNum               431732 non-null  int64  \n",
      " 15  sg-commerical-centres_one2ThreeKMNum              431732 non-null  int64  \n",
      " 16  sg-secondary-schools_nearestDistance/KM           431732 non-null  float64\n",
      " 17  sg-secondary-schools_lessHalfKMNum                431732 non-null  int64  \n",
      " 18  sg-secondary-schools_half2OneKMNum                431732 non-null  int64  \n",
      " 19  sg-secondary-schools_one2ThreeKMNum               431732 non-null  int64  \n",
      " 20  sg-shopping-malls_nearestDistance/KM              431732 non-null  float64\n",
      " 21  sg-shopping-malls_lessHalfKMNum                   431732 non-null  int64  \n",
      " 22  sg-shopping-malls_half2OneKMNum                   431732 non-null  int64  \n",
      " 23  sg-shopping-malls_one2ThreeKMNum                  431732 non-null  int64  \n",
      " 24  sg-train-stations_nearestDistance/KM              431732 non-null  float64\n",
      " 25  sg-train-stations_lessHalfKMNum                   431732 non-null  int64  \n",
      " 26  sg-train-stations_half2OneKMNum                   431732 non-null  int64  \n",
      " 27  sg-train-stations_one2ThreeKMNum                  431732 non-null  int64  \n",
      " 28  sg-gov-markets-hawker-centres_nearestDistance/KM  431732 non-null  float64\n",
      " 29  sg-gov-markets-hawker-centres_lessHalfKMNum       431732 non-null  int64  \n",
      " 30  sg-gov-markets-hawker-centres_half2OneKMNum       431732 non-null  int64  \n",
      " 31  sg-gov-markets-hawker-centres_one2ThreeKMNum      431732 non-null  int64  \n",
      " 32  underadult                                        431732 non-null  int64  \n",
      " 33  young                                             431732 non-null  int64  \n",
      " 34  mid                                               431732 non-null  int64  \n",
      " 35  old                                               431732 non-null  int64  \n",
      " 36  1 room                                            431732 non-null  float64\n",
      " 37  2 room                                            431732 non-null  float64\n",
      " 38  3 room                                            431732 non-null  float64\n",
      " 39  4 room                                            431732 non-null  float64\n",
      " 40  5 room                                            431732 non-null  float64\n",
      " 41  executive                                         431732 non-null  float64\n",
      " 42  multi generation                                  431732 non-null  float64\n",
      " 43  resale_price                                      431732 non-null  float64\n",
      "dtypes: float64(20), int64(24)\n",
      "memory usage: 144.9 MB\n"
     ]
    }
   ],
   "source": [
    "train.info()"
   ]
  },
  {
   "cell_type": "code",
   "execution_count": 8,
   "id": "466cf5dc",
   "metadata": {},
   "outputs": [
    {
     "name": "stdout",
     "output_type": "stream",
     "text": [
      "<class 'pandas.core.frame.DataFrame'>\n",
      "RangeIndex: 107934 entries, 0 to 107933\n",
      "Data columns (total 43 columns):\n",
      " #   Column                                            Non-Null Count   Dtype  \n",
      "---  ------                                            --------------   -----  \n",
      " 0   planning_area                                     107934 non-null  float64\n",
      " 1   flat_model                                        107934 non-null  float64\n",
      " 2   storey_range                                      107934 non-null  float64\n",
      " 3   month                                             107934 non-null  int64  \n",
      " 4   floor_area_sqm                                    107934 non-null  float64\n",
      " 5   lease_commence_date                               107934 non-null  int64  \n",
      " 6   latitude                                          107934 non-null  float64\n",
      " 7   longitude                                         107934 non-null  float64\n",
      " 8   sg-primary-schools_nearestDistance/KM             107934 non-null  float64\n",
      " 9   sg-primary-schools_lessHalfKMNum                  107934 non-null  int64  \n",
      " 10  sg-primary-schools_half2OneKMNum                  107934 non-null  int64  \n",
      " 11  sg-primary-schools_one2ThreeKMNum                 107934 non-null  int64  \n",
      " 12  sg-commerical-centres_nearestDistance/KM          107934 non-null  float64\n",
      " 13  sg-commerical-centres_lessHalfKMNum               107934 non-null  int64  \n",
      " 14  sg-commerical-centres_half2OneKMNum               107934 non-null  int64  \n",
      " 15  sg-commerical-centres_one2ThreeKMNum              107934 non-null  int64  \n",
      " 16  sg-secondary-schools_nearestDistance/KM           107934 non-null  float64\n",
      " 17  sg-secondary-schools_lessHalfKMNum                107934 non-null  int64  \n",
      " 18  sg-secondary-schools_half2OneKMNum                107934 non-null  int64  \n",
      " 19  sg-secondary-schools_one2ThreeKMNum               107934 non-null  int64  \n",
      " 20  sg-shopping-malls_nearestDistance/KM              107934 non-null  float64\n",
      " 21  sg-shopping-malls_lessHalfKMNum                   107934 non-null  int64  \n",
      " 22  sg-shopping-malls_half2OneKMNum                   107934 non-null  int64  \n",
      " 23  sg-shopping-malls_one2ThreeKMNum                  107934 non-null  int64  \n",
      " 24  sg-train-stations_nearestDistance/KM              107934 non-null  float64\n",
      " 25  sg-train-stations_lessHalfKMNum                   107934 non-null  int64  \n",
      " 26  sg-train-stations_half2OneKMNum                   107934 non-null  int64  \n",
      " 27  sg-train-stations_one2ThreeKMNum                  107934 non-null  int64  \n",
      " 28  sg-gov-markets-hawker-centres_nearestDistance/KM  107934 non-null  float64\n",
      " 29  sg-gov-markets-hawker-centres_lessHalfKMNum       107934 non-null  int64  \n",
      " 30  sg-gov-markets-hawker-centres_half2OneKMNum       107934 non-null  int64  \n",
      " 31  sg-gov-markets-hawker-centres_one2ThreeKMNum      107934 non-null  int64  \n",
      " 32  underadult                                        107934 non-null  int64  \n",
      " 33  young                                             107934 non-null  int64  \n",
      " 34  mid                                               107934 non-null  int64  \n",
      " 35  old                                               107934 non-null  int64  \n",
      " 36  1 room                                            107934 non-null  float64\n",
      " 37  2 room                                            107934 non-null  float64\n",
      " 38  3 room                                            107934 non-null  float64\n",
      " 39  4 room                                            107934 non-null  float64\n",
      " 40  5 room                                            107934 non-null  float64\n",
      " 41  executive                                         107934 non-null  float64\n",
      " 42  multi generation                                  107934 non-null  float64\n",
      "dtypes: float64(19), int64(24)\n",
      "memory usage: 35.4 MB\n"
     ]
    }
   ],
   "source": [
    "test.info()"
   ]
  },
  {
   "cell_type": "code",
   "execution_count": 10,
   "id": "1bb5f553",
   "metadata": {},
   "outputs": [],
   "source": [
    "train.to_csv('processed_train.csv', index=0)\n",
    "test.to_csv('processed_test.csv', index=0)"
   ]
  },
  {
   "cell_type": "code",
   "execution_count": null,
   "id": "70abf027",
   "metadata": {},
   "outputs": [],
   "source": []
  }
 ],
 "metadata": {
  "kernelspec": {
   "display_name": "Python 3 (ipykernel)",
   "language": "python",
   "name": "python3"
  },
  "language_info": {
   "codemirror_mode": {
    "name": "ipython",
    "version": 3
   },
   "file_extension": ".py",
   "mimetype": "text/x-python",
   "name": "python",
   "nbconvert_exporter": "python",
   "pygments_lexer": "ipython3",
   "version": "3.7.15"
  }
 },
 "nbformat": 4,
 "nbformat_minor": 5
}
