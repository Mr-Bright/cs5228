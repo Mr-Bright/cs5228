{
 "cells": [
  {
   "cell_type": "code",
   "execution_count": 1,
   "id": "9228e0fc",
   "metadata": {},
   "outputs": [
    {
     "name": "stdout",
     "output_type": "stream",
     "text": [
      "Requirement already satisfied: xgboost in c:\\users\\mr.bright\\.conda\\envs\\torch\\lib\\site-packages (1.6.2)\n",
      "Requirement already satisfied: scipy in c:\\users\\mr.bright\\.conda\\envs\\torch\\lib\\site-packages (from xgboost) (1.7.3)\n",
      "Requirement already satisfied: numpy in c:\\users\\mr.bright\\.conda\\envs\\torch\\lib\\site-packages (from xgboost) (1.21.5)\n"
     ]
    }
   ],
   "source": [
    "!pip install xgboost"
   ]
  },
  {
   "cell_type": "code",
   "execution_count": 2,
   "id": "a0b2db40",
   "metadata": {},
   "outputs": [],
   "source": [
    "import pandas as pd\n",
    "import numpy as np\n",
    "import xgboost"
   ]
  },
  {
   "cell_type": "code",
   "execution_count": 9,
   "id": "79eaa411",
   "metadata": {},
   "outputs": [],
   "source": [
    "train = pd.read_csv('processed_train.csv')\n",
    "test = pd.read_csv('processed_test.csv')"
   ]
  },
  {
   "cell_type": "code",
   "execution_count": 10,
   "id": "f1efe9a9",
   "metadata": {},
   "outputs": [],
   "source": [
    "train_y = train.resale_price\n",
    "train_x = train.drop(\"resale_price\", axis=1)"
   ]
  },
  {
   "cell_type": "code",
   "execution_count": 12,
   "id": "5ed38645",
   "metadata": {},
   "outputs": [
    {
     "name": "stdout",
     "output_type": "stream",
     "text": [
      "<class 'pandas.core.frame.DataFrame'>\n",
      "RangeIndex: 107934 entries, 0 to 107933\n",
      "Data columns (total 43 columns):\n",
      " #   Column                                            Non-Null Count   Dtype  \n",
      "---  ------                                            --------------   -----  \n",
      " 0   planning_area                                     107934 non-null  float64\n",
      " 1   flat_model                                        107934 non-null  float64\n",
      " 2   storey_range                                      107934 non-null  float64\n",
      " 3   month                                             107934 non-null  int64  \n",
      " 4   floor_area_sqm                                    107934 non-null  float64\n",
      " 5   lease_commence_date                               107934 non-null  int64  \n",
      " 6   latitude                                          107934 non-null  float64\n",
      " 7   longitude                                         107934 non-null  float64\n",
      " 8   sg-primary-schools_nearestDistance/KM             107934 non-null  float64\n",
      " 9   sg-primary-schools_lessHalfKMNum                  107934 non-null  int64  \n",
      " 10  sg-primary-schools_half2OneKMNum                  107934 non-null  int64  \n",
      " 11  sg-primary-schools_one2ThreeKMNum                 107934 non-null  int64  \n",
      " 12  sg-commerical-centres_nearestDistance/KM          107934 non-null  float64\n",
      " 13  sg-commerical-centres_lessHalfKMNum               107934 non-null  int64  \n",
      " 14  sg-commerical-centres_half2OneKMNum               107934 non-null  int64  \n",
      " 15  sg-commerical-centres_one2ThreeKMNum              107934 non-null  int64  \n",
      " 16  sg-secondary-schools_nearestDistance/KM           107934 non-null  float64\n",
      " 17  sg-secondary-schools_lessHalfKMNum                107934 non-null  int64  \n",
      " 18  sg-secondary-schools_half2OneKMNum                107934 non-null  int64  \n",
      " 19  sg-secondary-schools_one2ThreeKMNum               107934 non-null  int64  \n",
      " 20  sg-shopping-malls_nearestDistance/KM              107934 non-null  float64\n",
      " 21  sg-shopping-malls_lessHalfKMNum                   107934 non-null  int64  \n",
      " 22  sg-shopping-malls_half2OneKMNum                   107934 non-null  int64  \n",
      " 23  sg-shopping-malls_one2ThreeKMNum                  107934 non-null  int64  \n",
      " 24  sg-train-stations_nearestDistance/KM              107934 non-null  float64\n",
      " 25  sg-train-stations_lessHalfKMNum                   107934 non-null  int64  \n",
      " 26  sg-train-stations_half2OneKMNum                   107934 non-null  int64  \n",
      " 27  sg-train-stations_one2ThreeKMNum                  107934 non-null  int64  \n",
      " 28  sg-gov-markets-hawker-centres_nearestDistance/KM  107934 non-null  float64\n",
      " 29  sg-gov-markets-hawker-centres_lessHalfKMNum       107934 non-null  int64  \n",
      " 30  sg-gov-markets-hawker-centres_half2OneKMNum       107934 non-null  int64  \n",
      " 31  sg-gov-markets-hawker-centres_one2ThreeKMNum      107934 non-null  int64  \n",
      " 32  underadult                                        107934 non-null  int64  \n",
      " 33  young                                             107934 non-null  int64  \n",
      " 34  mid                                               107934 non-null  int64  \n",
      " 35  old                                               107934 non-null  int64  \n",
      " 36  1 room                                            107934 non-null  float64\n",
      " 37  2 room                                            107934 non-null  float64\n",
      " 38  3 room                                            107934 non-null  float64\n",
      " 39  4 room                                            107934 non-null  float64\n",
      " 40  5 room                                            107934 non-null  float64\n",
      " 41  executive                                         107934 non-null  float64\n",
      " 42  multi generation                                  107934 non-null  float64\n",
      "dtypes: float64(19), int64(24)\n",
      "memory usage: 35.4 MB\n"
     ]
    }
   ],
   "source": [
    "test.info()"
   ]
  },
  {
   "cell_type": "code",
   "execution_count": 13,
   "id": "5049474c",
   "metadata": {},
   "outputs": [
    {
     "name": "stdout",
     "output_type": "stream",
     "text": [
      "1.6.2\n"
     ]
    }
   ],
   "source": [
    "print(xgboost.__version__)"
   ]
  },
  {
   "cell_type": "code",
   "execution_count": 14,
   "id": "84cae5d3",
   "metadata": {},
   "outputs": [],
   "source": [
    "model = xgboost.XGBRegressor(n_estimators=1000, max_depth=10, eta=0.1, subsample=0.7, colsample_bytree=0.8)"
   ]
  },
  {
   "cell_type": "code",
   "execution_count": 15,
   "id": "b8297975",
   "metadata": {},
   "outputs": [
    {
     "data": {
      "text/plain": [
       "XGBRegressor(base_score=0.5, booster='gbtree', callbacks=None,\n",
       "             colsample_bylevel=1, colsample_bynode=1, colsample_bytree=0.8,\n",
       "             early_stopping_rounds=None, enable_categorical=False, eta=0.1,\n",
       "             eval_metric=None, gamma=0, gpu_id=-1, grow_policy='depthwise',\n",
       "             importance_type=None, interaction_constraints='',\n",
       "             learning_rate=0.100000001, max_bin=256, max_cat_to_onehot=4,\n",
       "             max_delta_step=0, max_depth=10, max_leaves=0, min_child_weight=1,\n",
       "             missing=nan, monotone_constraints='()', n_estimators=1000,\n",
       "             n_jobs=0, num_parallel_tree=1, predictor='auto', random_state=0,\n",
       "             reg_alpha=0, ...)"
      ]
     },
     "execution_count": 15,
     "metadata": {},
     "output_type": "execute_result"
    }
   ],
   "source": [
    "model.fit(train_x, train_y)"
   ]
  },
  {
   "cell_type": "code",
   "execution_count": 16,
   "id": "a18a680b",
   "metadata": {},
   "outputs": [],
   "source": [
    "predict_y = model.predict(test)"
   ]
  },
  {
   "cell_type": "code",
   "execution_count": 17,
   "id": "ef03dda9",
   "metadata": {},
   "outputs": [],
   "source": [
    "result = pd.DataFrame()\n",
    "result.insert(result.shape[0], 'Id', range(len(predict_y)))\n",
    "result.insert(1, 'Predicted', predict_y)\n",
    "result.to_csv('result_xgboost_regression.csv', index = 0)"
   ]
  },
  {
   "cell_type": "code",
   "execution_count": null,
   "id": "6c29fb1a",
   "metadata": {},
   "outputs": [],
   "source": []
  }
 ],
 "metadata": {
  "kernelspec": {
   "display_name": "Python 3 (ipykernel)",
   "language": "python",
   "name": "python3"
  },
  "language_info": {
   "codemirror_mode": {
    "name": "ipython",
    "version": 3
   },
   "file_extension": ".py",
   "mimetype": "text/x-python",
   "name": "python",
   "nbconvert_exporter": "python",
   "pygments_lexer": "ipython3",
   "version": "3.7.15"
  }
 },
 "nbformat": 4,
 "nbformat_minor": 5
}
