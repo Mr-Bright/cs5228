{
 "cells": [
  {
   "cell_type": "code",
   "execution_count": 1,
   "metadata": {},
   "outputs": [],
   "source": [
    "import pandas as pd\n",
    "import numpy as np"
   ]
  },
  {
   "cell_type": "code",
   "execution_count": 2,
   "metadata": {},
   "outputs": [],
   "source": [
    "train = pd.read_csv('train.csv')\n",
    "test = pd.read_csv('test.csv')"
   ]
  },
  {
   "cell_type": "code",
   "execution_count": 3,
   "metadata": {},
   "outputs": [],
   "source": [
    "# 额外数据读入都放到这个块里\n",
    "\n",
    "population_info = pd.read_csv('auxiliary-data/sg-population-demographics.csv')"
   ]
  },
  {
   "cell_type": "code",
   "execution_count": 4,
   "metadata": {},
   "outputs": [],
   "source": [
    "# author by ZhangML\n",
    "# todo\n",
    "def addPopulationInfo(dataset, populationInfo):\n",
    "    result = pd.DataFrame(columns=['plannin_area','subzone','underadult','young','mid','old'])\n",
    "    age_list = [['0-4', '5-9', '10-14', '15-19'], ['20-24', '25-29', '30-34', '35-39'], ['40-44', '45-49', '50-54', '55-59'], ['60-64', '65-69', '70-74',\n",
    "       '75-79', '80-84', '85+']]\n",
    "    area_list = list(populationInfo.groupby(['plannin_area', 'subzone']).groups.keys())\n",
    "    for p, s in area_list:\n",
    "        temp = populationInfo[(populationInfo.plannin_area == p) & (populationInfo.subzone == s)]\n",
    "        temp_res = [p, s]\n",
    "        for age in age_list:\n",
    "            temp_res.append(temp[temp.age_group.isin(age)]['count'].sum())\n",
    "        result.loc[len(result.index)] = temp_res\n",
    "    return result"
   ]
  },
  {
   "cell_type": "code",
   "execution_count": null,
   "metadata": {},
   "outputs": [],
   "source": []
  }
 ],
 "metadata": {
  "kernelspec": {
   "display_name": "Python 3 (ipykernel)",
   "language": "python",
   "name": "python3"
  },
  "language_info": {
   "codemirror_mode": {
    "name": "ipython",
    "version": 3
   },
   "file_extension": ".py",
   "mimetype": "text/x-python",
   "name": "python",
   "nbconvert_exporter": "python",
   "pygments_lexer": "ipython3",
   "version": "3.8.15"
  }
 },
 "nbformat": 4,
 "nbformat_minor": 1
}
