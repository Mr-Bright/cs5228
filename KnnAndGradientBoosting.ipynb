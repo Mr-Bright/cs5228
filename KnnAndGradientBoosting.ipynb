{
 "cells": [
  {
   "cell_type": "code",
   "execution_count": 1,
   "id": "9228e0fc",
   "metadata": {},
   "outputs": [],
   "source": [
    "import numpy as np\n",
    "import pandas as pd\n",
    "\n",
    "from sklearn.neighbors import KNeighborsRegressor\n",
    "from sklearn.ensemble import GradientBoostingRegressor\n",
    "from sklearn.model_selection import GridSearchCV"
   ]
  },
  {
   "cell_type": "code",
   "execution_count": 2,
   "id": "79eaa411",
   "metadata": {},
   "outputs": [],
   "source": [
    "train = pd.read_csv('processed_train.csv')\n",
    "test = pd.read_csv('processed_test.csv')\n",
    "\n",
    "train_y = train.resale_price\n",
    "train_x = train.drop(\"resale_price\", axis=1)"
   ]
  },
  {
   "cell_type": "code",
   "execution_count": null,
   "id": "a851a21f-14d0-40e3-bc9a-883df49c134d",
   "metadata": {},
   "outputs": [],
   "source": [
    "# KNeighborsRegressor()\n",
    "grid_knn = dict()\n",
    "grid_knn['n_neighbors'] = [2, 3, 4,5,6]\n",
    "grid_search_knn = GridSearchCV(estimator=KNeighborsRegressor(), param_grid=grid_knn)\n",
    "model_knn = grid_search_knn.fit(train_x, train_y)"
   ]
  },
  {
   "cell_type": "code",
   "execution_count": null,
   "id": "466f4e20-406a-4c51-9b5f-ad9a7abf3285",
   "metadata": {},
   "outputs": [],
   "source": [
    "model_knn.best_params_\n",
    "predict_y = model_knn.predict(test)"
   ]
  },
  {
   "cell_type": "code",
   "execution_count": null,
   "id": "ac5f38dc-a4f0-4fcb-b99d-70ac77315dde",
   "metadata": {},
   "outputs": [],
   "source": [
    "result_knn = pd.DataFrame()\n",
    "result_knn.insert(result_knn.shape[0], 'Id', range(len(predict_y)))\n",
    "result_knn.insert(1, 'Predicted', predict_y)\n",
    "result_knn.to_csv('result_knn.csv', index = 0)"
   ]
  },
  {
   "cell_type": "code",
   "execution_count": null,
   "id": "50ed070c-3e9a-47cd-aaf3-3c12772ec522",
   "metadata": {},
   "outputs": [],
   "source": []
  },
  {
   "cell_type": "code",
   "execution_count": null,
   "id": "ca776627-5df6-4a20-996f-8b61904f6db5",
   "metadata": {},
   "outputs": [],
   "source": [
    "# GradientBoostingRegressor()\n",
    "grid_gb = dict()\n",
    "grid_gb['n_estimators'] = [50, 100,200]\n",
    "grid_gb['max_depth'] = [3, 5,7]\n",
    "grid_search_gb = GridSearchCV(estimator=GradientBoostingRegressor(), param_grid=grid_gb)\n",
    "model_gb = grid_search_gb.fit(train_x, train_y)"
   ]
  },
  {
   "cell_type": "code",
   "execution_count": 10,
   "id": "3322b7db-1ae5-4211-aae3-da2316c49737",
   "metadata": {},
   "outputs": [
    {
     "data": {
      "text/plain": [
       "{'max_depth': 3, 'n_estimators': 200}"
      ]
     },
     "execution_count": 10,
     "metadata": {},
     "output_type": "execute_result"
    }
   ],
   "source": [
    "model_gb.best_params_\n",
    "predict_y = model_gb.predict(test)"
   ]
  },
  {
   "cell_type": "code",
   "execution_count": null,
   "id": "91175a00-afd8-4c44-b954-bb25405f516f",
   "metadata": {},
   "outputs": [],
   "source": [
    "result_gb = pd.DataFrame()\n",
    "result_gb.insert(result_gb.shape[0], 'Id', range(len(predict_y)))\n",
    "result_gb.insert(1, 'Predicted', predict_y)\n",
    "result_gb.to_csv('result_GradientBoosting.csv', index = 0)"
   ]
  }
 ],
 "metadata": {
  "kernelspec": {
   "display_name": "Python 3 (ipykernel)",
   "language": "python",
   "name": "python3"
  },
  "language_info": {
   "codemirror_mode": {
    "name": "ipython",
    "version": 3
   },
   "file_extension": ".py",
   "mimetype": "text/x-python",
   "name": "python",
   "nbconvert_exporter": "python",
   "pygments_lexer": "ipython3",
   "version": "3.10.9"
  }
 },
 "nbformat": 4,
 "nbformat_minor": 5
}
