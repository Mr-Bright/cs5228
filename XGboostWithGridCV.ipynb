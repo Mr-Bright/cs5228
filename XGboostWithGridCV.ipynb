{
 "cells": [
  {
   "cell_type": "code",
   "execution_count": 1,
   "id": "59300101",
   "metadata": {},
   "outputs": [],
   "source": [
    "import pandas as pd\n",
    "import numpy as np\n",
    "import xgboost"
   ]
  },
  {
   "cell_type": "code",
   "execution_count": 2,
   "id": "0bc28f8b",
   "metadata": {},
   "outputs": [],
   "source": [
    "train = pd.read_csv('processed_train.csv')\n",
    "test = pd.read_csv('processed_test.csv')"
   ]
  },
  {
   "cell_type": "code",
   "execution_count": 3,
   "id": "9fd9f947",
   "metadata": {},
   "outputs": [],
   "source": [
    "train_y = train.resale_price\n",
    "train_x = train.drop(\"resale_price\", axis=1)"
   ]
  },
  {
   "cell_type": "code",
   "execution_count": 4,
   "id": "d4e73bf4",
   "metadata": {},
   "outputs": [],
   "source": [
    "regressor = xgboost.XGBRegressor()\n",
    "param_grid = {\"max_depth\":    [8, 10, 12, 14],\n",
    "              \"n_estimators\": [800, 1000, 1200, 1400],\n",
    "              \"learning_rate\": [0.01, 0.05, 0.075, 0.1]}"
   ]
  },
  {
   "cell_type": "code",
   "execution_count": null,
   "id": "e76970e8",
   "metadata": {},
   "outputs": [],
   "source": [
    "from sklearn.model_selection import GridSearchCV\n",
    "\n",
    "search = GridSearchCV(regressor, param_grid, cv=5).fit(train_x, train_y)"
   ]
  },
  {
   "cell_type": "code",
   "execution_count": null,
   "id": "f1ce4e17",
   "metadata": {},
   "outputs": [],
   "source": [
    "best_model = search.best_estimator_\n",
    "print(search.best_params_)"
   ]
  },
  {
   "cell_type": "code",
   "execution_count": null,
   "id": "d665baa1",
   "metadata": {},
   "outputs": [],
   "source": [
    "predict_y = best_model.predict(test)"
   ]
  },
  {
   "cell_type": "code",
   "execution_count": null,
   "id": "4bf8ba2a",
   "metadata": {},
   "outputs": [],
   "source": [
    "result = pd.DataFrame()\n",
    "result.insert(result.shape[0], 'Id', range(len(predict_y)))\n",
    "result.insert(1, 'Predicted', predict_y)\n",
    "result.to_csv('result_xgboost_gridcv.csv', index = 0)"
   ]
  }
 ],
 "metadata": {
  "kernelspec": {
   "display_name": "Python 3 (ipykernel)",
   "language": "python",
   "name": "python3"
  },
  "language_info": {
   "codemirror_mode": {
    "name": "ipython",
    "version": 3
   },
   "file_extension": ".py",
   "mimetype": "text/x-python",
   "name": "python",
   "nbconvert_exporter": "python",
   "pygments_lexer": "ipython3",
   "version": "3.7.15"
  }
 },
 "nbformat": 4,
 "nbformat_minor": 5
}
