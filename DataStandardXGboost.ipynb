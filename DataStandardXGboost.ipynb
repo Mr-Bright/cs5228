{
 "cells": [
  {
   "cell_type": "code",
   "execution_count": 1,
   "id": "0ebee98e",
   "metadata": {},
   "outputs": [],
   "source": [
    "import pandas as pd\n",
    "import numpy as np\n",
    "import xgboost\n",
    "from xgboost import XGBClassifier\n",
    "from gcForest import gcForestRegressor as gcfR"
   ]
  },
  {
   "cell_type": "code",
   "execution_count": 2,
   "id": "a17932b3",
   "metadata": {},
   "outputs": [],
   "source": [
    "train = pd.read_csv('processed_train_fillna_sex.csv')\n",
    "test = pd.read_csv('processed_test_fillna_sex.csv')"
   ]
  },
  {
   "cell_type": "code",
   "execution_count": 3,
   "id": "b9d931b8",
   "metadata": {},
   "outputs": [],
   "source": [
    "train_y = train.resale_price\n",
    "train_x = train.drop(\"resale_price\", axis=1)"
   ]
  },
  {
   "cell_type": "code",
   "execution_count": 4,
   "id": "f95b862b",
   "metadata": {},
   "outputs": [],
   "source": [
    "from sklearn.preprocessing import StandardScaler, MinMaxScaler\n",
    "\n",
    "x_scaler = StandardScaler()\n",
    "train_x = x_scaler.fit_transform(train_x)\n",
    "test = x_scaler.transform(test)\n",
    "\n",
    "y_scaler = StandardScaler()\n",
    "train_y = y_scaler.fit_transform(np.array(train_y).reshape(-1,1))"
   ]
  },
  {
   "cell_type": "code",
   "execution_count": 5,
   "id": "2382efcd",
   "metadata": {},
   "outputs": [],
   "source": [
    "#baseline\n",
    "model = xgboost.XGBRegressor(n_estimators=1000, max_depth=10, eta=0.1, subsample=0.7, colsample_bytree=0.8)\n",
    "model_gcforest = gcfR.GCForestRegressor(shape_1X=43, window=41, cv_method='sequence', scoring='explained_variance', mgs_criterion='poisson',cascade_criterion=\"poisson\")"
   ]
  },
  {
   "cell_type": "code",
   "execution_count": 6,
   "id": "7a7fb3d9",
   "metadata": {},
   "outputs": [],
   "source": [
    "#model = xgboost.XGBRegressor(n_estimators=1500, max_depth=15, eta=0.05, subsample=0.8, colsample_bytree=0.8)"
   ]
  },
  {
   "cell_type": "code",
   "execution_count": 7,
   "id": "5a4f97aa",
   "metadata": {},
   "outputs": [],
   "source": [
    "from sklearn.model_selection import train_test_split\n",
    "X_train, X_val, y_train, y_val = train_test_split(train_x,train_y,test_size=0.1)"
   ]
  },
  {
   "cell_type": "code",
   "execution_count": 8,
   "id": "0fac013c",
   "metadata": {},
   "outputs": [
    {
     "data": {
      "text/plain": [
       "XGBRegressor(base_score=0.5, booster='gbtree', callbacks=None,\n",
       "             colsample_bylevel=1, colsample_bynode=1, colsample_bytree=0.8,\n",
       "             early_stopping_rounds=None, enable_categorical=False, eta=0.1,\n",
       "             eval_metric=None, gamma=0, gpu_id=-1, grow_policy='depthwise',\n",
       "             importance_type=None, interaction_constraints='',\n",
       "             learning_rate=0.100000001, max_bin=256, max_cat_to_onehot=4,\n",
       "             max_delta_step=0, max_depth=10, max_leaves=0, min_child_weight=1,\n",
       "             missing=nan, monotone_constraints='()', n_estimators=1000,\n",
       "             n_jobs=0, num_parallel_tree=1, predictor='auto', random_state=0,\n",
       "             reg_alpha=0, ...)"
      ]
     },
     "execution_count": 8,
     "metadata": {},
     "output_type": "execute_result"
    }
   ],
   "source": [
    "model.fit(X_train, y_train)"
   ]
  },
  {
   "cell_type": "code",
   "execution_count": null,
   "id": "b8e4e337",
   "metadata": {},
   "outputs": [],
   "source": []
  },
  {
   "cell_type": "code",
   "execution_count": 9,
   "id": "b65ca41d",
   "metadata": {},
   "outputs": [],
   "source": [
    "from sklearn.metrics import mean_absolute_error\n",
    "t_y = model.predict(X_train)\n",
    "t_y = y_scaler.inverse_transform(t_y.reshape(-1,1))\n",
    "y_train = y_scaler.inverse_transform(y_train.reshape(-1,1))\n",
    "train_error = mean_absolute_error(np.array(y_train).reshape(-1),np.array(t_y).reshape(-1))\n",
    "\n",
    "\n",
    "p_y = model.predict(X_val)\n",
    "p_y = y_scaler.inverse_transform(p_y.reshape(-1,1))\n",
    "y_val = y_scaler.inverse_transform(y_val.reshape(-1,1))\n",
    "val_error = mean_absolute_error(np.array(y_val).reshape(-1),np.array(p_y).reshape(-1))"
   ]
  },
  {
   "cell_type": "code",
   "execution_count": 10,
   "id": "0324d808",
   "metadata": {},
   "outputs": [
    {
     "name": "stdout",
     "output_type": "stream",
     "text": [
      "train_error:  7647.369379574046\n",
      "val_error:  11410.863883871805\n"
     ]
    }
   ],
   "source": [
    "print('train_error: ',train_error)\n",
    "print('val_error: ',val_error)"
   ]
  },
  {
   "cell_type": "code",
   "execution_count": 13,
   "id": "b0f0f777",
   "metadata": {},
   "outputs": [
    {
     "data": {
      "text/plain": [
       "XGBRegressor(base_score=0.5, booster='gbtree', callbacks=None,\n",
       "             colsample_bylevel=1, colsample_bynode=1, colsample_bytree=0.8,\n",
       "             early_stopping_rounds=None, enable_categorical=False, eta=0.1,\n",
       "             eval_metric=None, gamma=0, gpu_id=-1, grow_policy='depthwise',\n",
       "             importance_type=None, interaction_constraints='',\n",
       "             learning_rate=0.100000001, max_bin=256, max_cat_to_onehot=4,\n",
       "             max_delta_step=0, max_depth=10, max_leaves=0, min_child_weight=1,\n",
       "             missing=nan, monotone_constraints='()', n_estimators=1000,\n",
       "             n_jobs=0, num_parallel_tree=1, predictor='auto', random_state=0,\n",
       "             reg_alpha=0, ...)"
      ]
     },
     "execution_count": 13,
     "metadata": {},
     "output_type": "execute_result"
    }
   ],
   "source": [
    "model.fit(train_x, train_y)"
   ]
  },
  {
   "cell_type": "code",
   "execution_count": 14,
   "id": "3f624132",
   "metadata": {},
   "outputs": [],
   "source": [
    "predict_y = model.predict(test)\n",
    "predict_y = y_scaler.inverse_transform(predict_y.reshape(-1,1))"
   ]
  },
  {
   "cell_type": "code",
   "execution_count": 15,
   "id": "84a2ec0a",
   "metadata": {},
   "outputs": [],
   "source": [
    "result = pd.DataFrame()\n",
    "result.insert(result.shape[0], 'Id', range(len(predict_y)))\n",
    "result.insert(1, 'Predicted', predict_y)\n",
    "result.to_csv('result_xgboost_s1.csv', index = 0)"
   ]
  },
  {
   "cell_type": "code",
   "execution_count": null,
   "id": "e6ece972",
   "metadata": {},
   "outputs": [],
   "source": []
  }
 ],
 "metadata": {
  "kernelspec": {
   "display_name": "Python 3 (ipykernel)",
   "language": "python",
   "name": "python3"
  },
  "language_info": {
   "codemirror_mode": {
    "name": "ipython",
    "version": 3
   },
   "file_extension": ".py",
   "mimetype": "text/x-python",
   "name": "python",
   "nbconvert_exporter": "python",
   "pygments_lexer": "ipython3",
   "version": "3.7.15"
  }
 },
 "nbformat": 4,
 "nbformat_minor": 5
}
