{
 "cells": [
  {
   "cell_type": "code",
   "execution_count": null,
   "id": "165191fc",
   "metadata": {},
   "outputs": [],
   "source": [
    "import pandas as pd\n",
    "import numpy as np"
   ]
  },
  {
   "cell_type": "code",
   "execution_count": null,
   "id": "2df08481",
   "metadata": {},
   "outputs": [],
   "source": [
    "#load the training and testing dataset\n",
    "train = pd.read_csv('processed_train.csv')\n",
    "test = pd.read_csv('processed_test.csv')"
   ]
  },
  {
   "cell_type": "code",
   "execution_count": null,
   "id": "5ed8dde7",
   "metadata": {},
   "outputs": [],
   "source": [
    "#get x,y\n",
    "train_y = train.resale_price\n",
    "train_x = train.drop(\"resale_price\", axis=1)"
   ]
  },
  {
   "cell_type": "code",
   "execution_count": null,
   "id": "ff1ea383",
   "metadata": {},
   "outputs": [],
   "source": [
    "#standardilize the training set and using the scaler to standardilze the testing set\n",
    "from sklearn.preprocessing import StandardScaler\n",
    "\n",
    "x_scaler = StandardScaler()\n",
    "train_x = x_scaler.fit_transform(train_x)\n",
    "test = x_scaler.transform(test)\n",
    "\n",
    "y_scaler = StandardScaler()\n",
    "train_y = y_scaler.fit_transform(np.array(train_y).reshape(-1,1))"
   ]
  },
  {
   "cell_type": "markdown",
   "id": "5641b8d0",
   "metadata": {},
   "source": [
    "models and gridsearch params are as following"
   ]
  },
  {
   "cell_type": "code",
   "execution_count": null,
   "id": "46b35c90",
   "metadata": {},
   "outputs": [],
   "source": [
    "# import lightgbm as lgb\n",
    "# model_name = 'lightgbm'\n",
    "# param_grid = {\n",
    "#     'learning_rate': [0.002*x+0.05 for x in range(0,11)],\n",
    "#     'n_estimators': range(2400, 3500, 100)\n",
    "# }\n",
    "# estimator = lgb.LGBMRegressor(objective='regression',num_leaves=2**7)"
   ]
  },
  {
   "cell_type": "code",
   "execution_count": null,
   "id": "c3184017",
   "metadata": {},
   "outputs": [],
   "source": [
    "# from sklearn.ensemble import RandomForestRegressor\n",
    "# model_name='randomForest'\n",
    "# param_grid = {\n",
    "#     'max_depth': range(7,15),\n",
    "#     'n_estimators': range(300, 2000, 100),\n",
    "#     'min_samples_split' : range(1,10)\n",
    "# }\n",
    "# estimator = RandomForestRegressor(n_estimators=700, max_depth=10)"
   ]
  },
  {
   "cell_type": "code",
   "execution_count": null,
   "id": "1ae55948",
   "metadata": {},
   "outputs": [],
   "source": [
    "# import xgboost\n",
    "# model_name='xgboost'\n",
    "# param_grid = {\n",
    "#     'max_depth': range(7,15),\n",
    "#     'n_estimators': range(300, 2000, 100),\n",
    "#     'eta' : [x*0.01 for x in range(1,21)]\n",
    "# }\n",
    "# estimator = xgboost.XGBRegressor(n_estimators=1000, max_depth=10, eta=0.1, subsample=0.7, colsample_bytree=0.8)"
   ]
  },
  {
   "cell_type": "code",
   "execution_count": null,
   "id": "726531a0-ba9c-4e80-8c44-396b421f2e8a",
   "metadata": {},
   "outputs": [],
   "source": [
    "# from sklearn.neighbors import KNeighborsRegressor\n",
    "# model_name='knn'\n",
    "# param_grid = {\n",
    "#     'n_estimators': [2, 3, 4,5,6]\n",
    "# }\n",
    "# estimator = KNeighborsRegressor()"
   ]
  },
  {
   "cell_type": "code",
   "execution_count": null,
   "id": "f30297ad-07f9-4a9c-abc9-f74f577e7846",
   "metadata": {},
   "outputs": [],
   "source": [
    "# from sklearn.ensemble import GradientBoostingRegressor\n",
    "# model_name='gradientBoosting'\n",
    "# param_grid = {\n",
    "#     'n_neighbors': [50, 200, 700, 1000],\n",
    "#     'max_depth':[4,6,8,10]\n",
    "# }\n",
    "# estimator = GradientBoostingRegressor()"
   ]
  },
  {
   "cell_type": "code",
   "execution_count": null,
   "id": "9d56788a",
   "metadata": {},
   "outputs": [],
   "source": [
    "#using default gridsearchcv\n",
    "from sklearn.model_selection import GridSearchCV\n",
    "cv = GridSearchCV(estimator, param_grid)\n",
    "cv.fit(X_train, y_train)"
   ]
  },
  {
   "cell_type": "code",
   "execution_count": null,
   "id": "67c77b8e",
   "metadata": {},
   "outputs": [],
   "source": [
    "#get best params\n",
    "print(cv.best_params_)"
   ]
  },
  {
   "cell_type": "code",
   "execution_count": null,
   "id": "3ccd7816",
   "metadata": {},
   "outputs": [],
   "source": [
    "#get best estimator and the test predicting\n",
    "best_model = cv.best_estimator_\n",
    "predict_y = best_model.predict(test)\n",
    "predict_y = y_scaler.inverse_transform(predict_y.reshape(-1,1))"
   ]
  },
  {
   "cell_type": "code",
   "execution_count": null,
   "id": "64bb9b74",
   "metadata": {},
   "outputs": [],
   "source": [
    "result = pd.DataFrame()\n",
    "result.insert(result.shape[0], 'Id', range(len(predict_y)))\n",
    "result.insert(1, 'Predicted', predict_y)\n",
    "result.to_csv('result_'+model_name+'_gridsearch.csv', index = 0)"
   ]
  }
 ],
 "metadata": {
  "kernelspec": {
   "display_name": "Python 3 (ipykernel)",
   "language": "python",
   "name": "python3"
  },
  "language_info": {
   "codemirror_mode": {
    "name": "ipython",
    "version": 3
   },
   "file_extension": ".py",
   "mimetype": "text/x-python",
   "name": "python",
   "nbconvert_exporter": "python",
   "pygments_lexer": "ipython3",
   "version": "3.10.9"
  }
 },
 "nbformat": 4,
 "nbformat_minor": 5
}
