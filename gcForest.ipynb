{
 "cells": [
  {
   "cell_type": "code",
   "execution_count": null,
   "metadata": {
    "colab": {
     "base_uri": "https://localhost:8080/"
    },
    "id": "6clw4mv6bE4I",
    "outputId": "2f322ecc-91a9-49e8-93af-a29c4b2f3a47"
   },
   "outputs": [
    {
     "output_type": "stream",
     "name": "stdout",
     "text": [
      "Looking in indexes: https://pypi.org/simple, https://us-python.pkg.dev/colab-wheels/public/simple/\n",
      "Requirement already satisfied: joblib in /usr/local/lib/python3.9/dist-packages (1.1.1)\n"
     ]
    }
   ],
   "source": [
    "!pip3 install joblib"
   ]
  },
  {
   "cell_type": "code",
   "execution_count": null,
   "metadata": {
    "id": "5jyp9AiXmQCf"
   },
   "outputs": [],
   "source": [
    "import pandas as pd\n",
    "import numpy as np\n",
    "\n",
    "from keras.datasets import mnist\n",
    "from xgboost import XGBClassifier"
   ]
  },
  {
   "cell_type": "code",
   "execution_count": null,
   "metadata": {
    "id": "9fJgimFD_ltK"
   },
   "outputs": [],
   "source": [
    "import sys\n",
    "\n",
    "sys.path.append(\"/content/gcForest\")\n",
    "from gcForest import gcForestRegressor as gcfR"
   ]
  },
  {
   "cell_type": "code",
   "execution_count": null,
   "metadata": {
    "id": "6LM7VuXtlEl2"
   },
   "outputs": [],
   "source": [
    "train = pd.read_csv(\"processed_train.csv\")\n",
    "X_test = pd.read_csv('processed_test.csv')\n",
    "y_train = train.resale_price\n",
    "X_train = train.drop(\"resale_price\", axis=1)"
   ]
  },
  {
   "cell_type": "code",
   "execution_count": null,
   "metadata": {
    "colab": {
     "base_uri": "https://localhost:8080/"
    },
    "id": "kK4NdSGwqR89",
    "outputId": "a587589b-b4b9-4bc3-f0db-19a56b8f59db"
   },
   "outputs": [
    {
     "output_type": "stream",
     "name": "stdout",
     "text": [
      "(431732, 43)\n"
     ]
    }
   ],
   "source": [
    "X_train = np.array(X_train)\n",
    "y_train = np.array(y_train)\n",
    "X_test = np.array(X_test)\n",
    "print(X_train.shape)"
   ]
  },
  {
   "cell_type": "code",
   "execution_count": null,
   "metadata": {
    "colab": {
     "base_uri": "https://localhost:8080/"
    },
    "id": "fYRQcbGGDeDw",
    "outputId": "1244ec73-884d-4e2c-9b6b-dd86b92b77d0"
   },
   "outputs": [
    {
     "output_type": "stream",
     "name": "stdout",
     "text": [
      "Slicing Sequence...\n",
      "Training MGS Model:  prf\n"
     ]
    },
    {
     "output_type": "stream",
     "name": "stderr",
     "text": [
      "/usr/local/lib/python3.9/dist-packages/sklearn/ensemble/_forest.py:583: UserWarning: Some inputs do not have OOB scores. This probably means too few trees were used to compute any reliable OOB estimates.\n",
      "  warn(\n"
     ]
    },
    {
     "output_type": "stream",
     "name": "stdout",
     "text": [
      "Training MGS Model:  crf\n",
      "Training MGS Model:  per\n"
     ]
    },
    {
     "output_type": "stream",
     "name": "stderr",
     "text": [
      "/usr/local/lib/python3.9/dist-packages/sklearn/ensemble/_forest.py:583: UserWarning: Some inputs do not have OOB scores. This probably means too few trees were used to compute any reliable OOB estimates.\n",
      "  warn(\n"
     ]
    },
    {
     "output_type": "stream",
     "name": "stdout",
     "text": [
      "Training MGS Model:  cer\n"
     ]
    },
    {
     "output_type": "stream",
     "name": "stderr",
     "text": [
      "/usr/local/lib/python3.9/dist-packages/sklearn/ensemble/_forest.py:583: UserWarning: Some inputs do not have OOB scores. This probably means too few trees were used to compute any reliable OOB estimates.\n",
      "  warn(\n"
     ]
    },
    {
     "output_type": "stream",
     "name": "stdout",
     "text": [
      "n_layer:  1     X_train shape:  (345385, 12)\n",
      "Adding/Training Layer, n_layer=1\n",
      "n_layer:  1     prf_crf_pred_ref length:  8\n",
      "Layer validation score = 0.7615019614847007\n",
      "n_layer:  1     feat_arr shape:  (345385, 20)\n",
      "Adding/Training Layer, n_layer=2\n",
      "n_layer:  2     prf_crf_pred_layer length:  8\n",
      "Layer validation score = 0.7774546171736227\n",
      "Adding/Training Layer, n_layer=3\n",
      "Layer validation score = 0.7792081654105476\n",
      "Adding/Training Layer, n_layer=4\n",
      "Layer validation score = 0.7798032203924234\n",
      "Adding/Training Layer, n_layer=5\n",
      "Layer validation score = 0.7803001557978494\n",
      "Adding/Training Layer, n_layer=6\n",
      "Layer validation score = 0.7807060090502564\n",
      "Adding/Training Layer, n_layer=7\n",
      "Layer validation score = 0.7810752830054472\n",
      "Adding/Training Layer, n_layer=8\n",
      "Layer validation score = 0.7812638194425667\n",
      "Adding/Training Layer, n_layer=9\n",
      "Layer validation score = 0.7812568203955904\n",
      "Slicing Sequence...\n"
     ]
    }
   ],
   "source": [
    "gr = gcfR.GCForestRegressor(shape_1X=43, window=41, cv_method='sequence', scoring='explained_variance', mgs_criterion='poisson',cascade_criterion=\"poisson\")\n",
    "gr.fit(X_train, y_train)\n",
    "y_gr = gr.predict(X_test)"
   ]
  },
  {
   "cell_type": "code",
   "source": [
    "print(y_gr)"
   ],
   "metadata": {
    "colab": {
     "base_uri": "https://localhost:8080/"
    },
    "id": "aqqwDTfNIPT8",
    "outputId": "d9c8a4b9-83dd-44ce-c7b7-bdb1fb179d49"
   },
   "execution_count": null,
   "outputs": [
    {
     "output_type": "stream",
     "name": "stdout",
     "text": [
      "[197768.70608769 275022.23519516 138905.71841709 ... 159627.80058216\n",
      " 272372.97404886 379019.70212217]\n"
     ]
    }
   ]
  },
  {
   "cell_type": "code",
   "source": [
    "result = pd.DataFrame()\n",
    "result.insert(result.shape[0], 'Id', range(len(y_gr)))\n",
    "result.insert(1, 'Predicted', y_gr)\n",
    "result.to_csv('result_gcforest_regression.csv', index = 0)"
   ],
   "metadata": {
    "id": "RQujXttDJgLe"
   },
   "execution_count": null,
   "outputs": []
  }
 ],
 "metadata": {
  "colab": {
   "provenance": []
  },
  "kernelspec": {
   "display_name": "Python 3",
   "name": "python3"
  },
  "language_info": {
   "name": "python"
  }
 },
 "nbformat": 4,
 "nbformat_minor": 0
}
